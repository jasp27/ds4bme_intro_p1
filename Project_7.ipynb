{
  "nbformat": 4,
  "nbformat_minor": 0,
  "metadata": {
    "colab": {
      "provenance": [],
      "authorship_tag": "ABX9TyOaQS1HmT/u+ds8RbTXBtGH",
      "include_colab_link": true
    },
    "kernelspec": {
      "name": "python3",
      "display_name": "Python 3"
    },
    "language_info": {
      "name": "python"
    }
  },
  "cells": [
    {
      "cell_type": "markdown",
      "metadata": {
        "id": "view-in-github",
        "colab_type": "text"
      },
      "source": [
        "<a href=\"https://colab.research.google.com/github/jasp27/ds4bme_intro_p1/blob/main/Project_7.ipynb\" target=\"_parent\"><img src=\"https://colab.research.google.com/assets/colab-badge.svg\" alt=\"Open In Colab\"/></a>"
      ]
    },
    {
      "cell_type": "markdown",
      "source": [
        "1A.\n",
        "\n",
        "Prevalance of adult (PA) = 3507/15932\n",
        "\n",
        "Prevalance of child (PC) = PA / 3\n",
        "\n",
        "Sensitivity  = .88\n",
        "\n",
        "Specificity= .84\n",
        "\n",
        "proportion of children postive and with disease (PD) = PC * Sensitivity\n",
        "\n",
        "proportion of children positive and without disease (PW) = (1 - PC) * (1 - Specificity)\n",
        "\n",
        "positive predictive value = PD / (PD + PW) = 0.303"
      ],
      "metadata": {
        "id": "ju9wqke-F09W"
      }
    },
    {
      "cell_type": "markdown",
      "source": [
        "1B. \n",
        "\n",
        "Proportion of children negative with disease (ND) = (1 - Sensitivity) * PC\n",
        "\n",
        "\n",
        "Proportion of children negative without disease (NW) = Specificity * (1 - PC)\n",
        "\n",
        "Negative predictive value = NW / (ND + NW) = 0.989\n",
        "\n",
        "\n",
        "\n",
        "\n"
      ],
      "metadata": {
        "id": "Vqcm5bBbKbf4"
      }
    },
    {
      "cell_type": "markdown",
      "source": [
        "1C. \n",
        "\n",
        "Liu et al. used 10 different factors in the algorithm:  Lactate, cardio SOFA, GCS, heart rate, PaO2, FiO2, respitory rate, kidney SOFA, respiratory SOFA, and coagualation SOFA.\n",
        "\n",
        "One of the main differences between children and adults are the cadiovascular aspects. Children are have faster heart rates than adults (1) so \"prior studies have attempted to adapt the SOFA score to pediatric patients, mostly focusing on the cardiovascular subscore\"(2). Children also had a decreased use of arterial blood gases. The pSOFA criteria uses peripheral oxygen saturation (Spo2) to Fio2 for children instead of the Pao2:Fio2 ratio (2). They have different renal systems and this is measured through creatine levels(2).\n",
        "\n",
        "Since adults and children have such different systems, algorithms will need to account for different factors like heart rate, arteria blood gas levels, creatine levels, etc. \n",
        "\n",
        "Sources\n",
        "we\n",
        "(1) https://pubmed.ncbi.nlm.nih.gov/11744133/\n",
        "\n",
        "(2) https://jamanetwork.com/journals/jamapediatrics/fullarticle/2646857"
      ],
      "metadata": {
        "id": "VJY2jlqXMmY8"
      }
    },
    {
      "cell_type": "markdown",
      "source": [
        "2.\n",
        "\n",
        "$P(N = n) = \\frac{(λ\\Delta t)^n}{n!}e^{-λ\\Delta t}$\n",
        " \n",
        "$\\text{$\\Delta$t (60 in 1 minute)}$\n",
        "\n",
        "$P(N = n) = \\frac{(60λ)^n}{n!}e^{-60λ}$\n",
        "\n",
        "$\\text{Likelihood function:}$\n",
        "\n",
        "$L(λ; 0, 1, ..., 60) = ∏_{n=0}^{60}\\frac{(60λ)^n}{n!}e^{-60λ}$\n",
        "\n",
        "\n",
        "$l(λ; 0, 1, ..., 60) = ln(∏_{n=0}^{60}\\frac{(60λ)^n}{n!}e^{-60λ})$\n",
        "\n",
        "$= ∑_{j=0}^{60}{}ln(\\frac{(60λ)^n}{n!}e^{-60λ})$\n",
        "$= ∑_{j=0}^{60}{[ln((60λ)^n)+ln(e^{-60λ})-ln(n!)]}$\n",
        "\n",
        "$= ∑_{j=0}^{60}{[nln((60λ))-60λ-ln(n!)]}$\n",
        "$= -60nλ+ln(60λ)∑_{j=0}^{60}{n}-∑_{j=0}^{60}{ln(n!)}$\n",
        "\n",
        "$\\text{Find the maximum:}$\n",
        "\n",
        "$\\frac{d}{dλ}l(λ; 0, 1, ..., 60) = \\frac{d}{dλ}(-60nλ+ln(60λ)∑_{j=0}^{60}{n}-∑_{j=0}^{60}{ln(n!)})$\n",
        "\n",
        "$= -60n + \\frac{1}{λ}∑_{n=0}^{60}{n} = 0$\n",
        "\n",
        "$60n = \\frac{1}{λ}∑_{n=0}^{60}{n}$\n",
        "\n",
        "$λ = \\frac{1}{60n}∑_{n=0}^{60}{n}$\n",
        "\\\n",
        "\n",
        "$\\text{For 1 minute:}$\n",
        "\n",
        "$Rate = 60*\\frac{1}{60n}∑_{n=0}^{60}{n}$\n",
        "$= \\frac{1}{n}∑_{n=0}^{60}{n}$\n",
        "\n",
        "$L(λ; 0, 1, ..., 60) = ∏_{n=0}^{60}\\frac{(60λ)^n}{n!}e^{-60λ}$\n",
        "$ = \\frac{(60λ)^{\\sum_{n=0}^{60}{n}}}{∏_{n=0}^{60}{n!}}e^{-60λ*61}$\n"
      ],
      "metadata": {
        "id": "z797WEEmj88J"
      }
    }
  ]
}