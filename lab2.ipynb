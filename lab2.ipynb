{
  "cells": [
    {
      "cell_type": "markdown",
      "metadata": {
        "id": "j0RQS0ARec78"
      },
      "source": [
        "# Names (Enter your names below)\n",
        "**Your Name and JHED:** Michelle Wang mwang139\n",
        "\n",
        "**Partner's Name and JHED (If applicable):**  Dru Zheng dzheng12"
      ]
    },
    {
      "cell_type": "markdown",
      "metadata": {
        "id": "fKzL3QeSec8G"
      },
      "source": [
        "# Lab 2: Classification of Cardiomyocites Based on Their Action Potentials\n",
        "\n",
        "By **Benjamín Béjar Haro** and edited by **Kwame Kutten**\n",
        "\n",
        "In this lab we will be looking at the problem of classifying cardiac cells by looking at their _Action Potentials_ (APs). For the purpose of this task we will be using synthetically\n",
        "generated APs following the models in [(Nygren et. al, 1998)](https://www.ahajournals.org/doi/abs/10.1161/01.res.82.1.63) and [(O'Hara et. al, 2011)](https://journals.plos.org/ploscompbiol/article?id=10.1371/journal.pcbi.1002061).\n",
        "\n",
        "### Objectives\n",
        "By the end of this session you should be able to use nearest-neighbor and simple neural network classifiers for two-class classification problems.\n"
      ]
    },
    {
      "cell_type": "code",
      "execution_count": 46,
      "metadata": {
        "id": "q9YJbVC0ec8I"
      },
      "outputs": [],
      "source": [
        "# ============================================================================\n",
        "# import modules\n",
        "# ============================================================================\n",
        "# Note that this part of the code needs to be run prior to any other code cell\n",
        "\n",
        "import numpy as np\n",
        "import matplotlib.pyplot as plt\n",
        "import scipy.io\n",
        "import random as rnd\n",
        "# set random number generator seed\n",
        "rnd.seed(10)\n",
        "\n",
        "try:\n",
        "    import torch\n",
        "    import sklearn\n",
        "except:\n",
        "    # Install packages if not available\n",
        "    !conda install -y -c pytorch pytorch\n",
        "    !conda install -y -c anaconda scikit-learn \n",
        "    import torch\n",
        "\n",
        "# inline plots\n",
        "%matplotlib inline"
      ]
    },
    {
      "cell_type": "code",
      "execution_count": 47,
      "metadata": {
        "id": "cfwKsNmuec8M",
        "outputId": "fd5a52e1-df51-4e7b-e5af-c20e459cccd9",
        "colab": {
          "base_uri": "https://localhost:8080/"
        }
      },
      "outputs": [
        {
          "output_type": "stream",
          "name": "stdout",
          "text": [
            "Drive already mounted at gdrive/; to attempt to forcibly remount, call drive.mount(\"gdrive/\", force_remount=True).\n"
          ]
        },
        {
          "output_type": "execute_result",
          "data": {
            "text/plain": [
              "dict_keys(['__header__', '__version__', '__globals__', 'Vatrial', 'Vventricular'])"
            ]
          },
          "metadata": {},
          "execution_count": 47
        }
      ],
      "source": [
        "# ============================================================================\n",
        "# Edit path variable below if necessary\n",
        "# ============================================================================\n",
        "try:\n",
        "    # Executes if running in Google Colab\n",
        "    from google.colab import drive\n",
        "    drive.mount('gdrive/')\n",
        "    path = \"gdrive/My Drive/\" # Change path to location of data if necessary\n",
        "except:\n",
        "    # Executes if running locally (e.g. Anaconda)\n",
        "    path = \"./\"\n",
        "\n",
        "# get the list of files to process\n",
        "matfile = '/'.join((path,'Adult_samples.mat'))\n",
        "\n",
        "# get data as dictionary\n",
        "adata = scipy.io.loadmat(matfile)\n",
        "\n",
        "# see the keys of the dictionary 'Vatrial' and 'Vventricular'\n",
        "# adata['Vatrial'] contains action potentials of cardiac cells of atrial type\n",
        "# adata['Vventricular'] contains action potentials of cardiac cells of ventricular type\n",
        "adata.keys()"
      ]
    },
    {
      "cell_type": "code",
      "execution_count": 48,
      "metadata": {
        "id": "IPIBzvsHec8N",
        "outputId": "e6700de9-8529-42bc-c386-4349aa30037e",
        "colab": {
          "base_uri": "https://localhost:8080/",
          "height": 331
        }
      },
      "outputs": [
        {
          "output_type": "stream",
          "name": "stdout",
          "text": [
            "(347, 1000)\n",
            "(347, 1000)\n"
          ]
        },
        {
          "output_type": "execute_result",
          "data": {
            "text/plain": [
              "Text(0.5, 0, 'sample')"
            ]
          },
          "metadata": {},
          "execution_count": 48
        },
        {
          "output_type": "display_data",
          "data": {
            "text/plain": [
              "<Figure size 432x288 with 1 Axes>"
            ],
            "image/png": "[encoded data removed]"
          },
          "metadata": {
            "needs_background": "light"
          }
        }
      ],
      "source": [
        "# look at the data dimensions\n",
        "print(adata['Vatrial'].shape)\n",
        "print(adata['Vventricular'].shape)\n",
        "\n",
        "# let's see how the data looks like\n",
        "plt.plot(adata['Vatrial'][:,0])\n",
        "plt.plot(adata['Vventricular'][:,0])\n",
        "plt.legend(('atrial','ventricular'))\n",
        "plt.ylabel('Voltage [mV]')\n",
        "plt.xlabel('sample')"
      ]
    },
    {
      "cell_type": "markdown",
      "metadata": {
        "tags": [],
        "id": "ST1fJDcFec8O"
      },
      "source": [
        "### Part 1. Classification Using Hand-crafted Features [50 points total]\n",
        "In this first part we will be normalizing the data and extracting hand-crafted features that will be used for classification. For each of the two classes there are $1000$ samples generated with a sampling rate of $f_s=500$ Hz. Here we create array **`X`** with **columns** that contains examples of adult atrial and ventricular action potentials generated using the models in [(Nygren et al., 1998)](https://www.ahajournals.org/doi/abs/10.1161/01.res.82.1.63) and [(O'Hara et al., 2011)](https://journals.plos.org/ploscompbiol/article?id=10.1371/journal.pcbi.1002061). We also create **`Y`** containing labels of $+1$ for ventricular type and $-1$ for atrial type."
      ]
    },
    {
      "cell_type": "code",
      "execution_count": 49,
      "metadata": {
        "id": "a7qyaYz_ec8P"
      },
      "outputs": [],
      "source": [
        "# Extract atrial data\n",
        "X_atrial = adata['Vatrial']\n",
        "[D, N_atrial] = X_atrial.shape # D dimension of features (number of time points )\n",
        "\n",
        "# Extract ventricular data\n",
        "X_ventricular = adata['Vventricular']\n",
        "N_ventricular = X_ventricular.shape[1]\n",
        "\n",
        "ratioTrain = 0.1\n",
        "f_s = 500\n",
        "\n",
        "X = np.concatenate([X_ventricular, X_atrial], axis=1)\n",
        "Y = np.concatenate([np.ones(N_ventricular), -np.ones(N_atrial)])\n"
      ]
    },
    {
      "cell_type": "markdown",
      "metadata": {
        "id": "6PEQWbGyec8Q"
      },
      "source": [
        " * **Task 1A: Normalize [4 points]:** Normalize the data so that each AP has 0.0 resting potential and maximum amplitude of 1.0  ."
      ]
    },
    {
      "cell_type": "code",
      "execution_count": 59,
      "metadata": {
        "id": "OmjcgtsLec8R",
        "outputId": "8c6b7efa-e947-489b-f184-0742991bbb75",
        "colab": {
          "base_uri": "https://localhost:8080/",
          "height": 296
        }
      },
      "outputs": [
        {
          "output_type": "execute_result",
          "data": {
            "text/plain": [
              "Text(0.5, 0, 'sample')"
            ]
          },
          "metadata": {},
          "execution_count": 59
        },
        {
          "output_type": "display_data",
          "data": {
            "text/plain": [
              "<Figure size 432x288 with 1 Axes>"
            ],
            "image/png": "[encoded data removed]"
          },
          "metadata": {
            "needs_background": "light"
          }
        }
      ],
      "source": [
        "def NormalizeData(X):\n",
        "    return (X - np.min(X)) / (np.max(X) - np.min(X))\n",
        "normx = NormalizeData(X)\n",
        "plt.plot(normx [:,0] )\n",
        "plt.plot(normx [:,1000] )\n",
        "plt.legend(('ventricular','atrial'))\n",
        "plt.ylabel('Voltage [mV]')\n",
        "plt.xlabel('sample')"
      ]
    },
    {
      "cell_type": "markdown",
      "metadata": {
        "id": "isETQXFqec8R"
      },
      "source": [
        " * **Task 1B: Train-Test Split [5 points]:** Split the data between test and training sets by randomly selecting $10\\%$ of the points as your training set. Make sure the two classes are well represented in the training set (e.g., use the same number for both). **Hint:** You may find [`sklearn.model_selection.train_test_split`](https://scikit-learn.org/stable/modules/generated/sklearn.model_selection.train_test_split.html) helpful here."
      ]
    },
    {
      "cell_type": "code",
      "execution_count": 103,
      "metadata": {
        "id": "1a4fRDIYec8S",
        "outputId": "86bd51f7-cfa0-4af8-a194-42d8a392b29e",
        "colab": {
          "base_uri": "https://localhost:8080/",
          "height": 352
        }
      },
      "outputs": [
        {
          "output_type": "stream",
          "name": "stdout",
          "text": [
            "(1000, 347)\n",
            "(1000, 347)\n",
            "(347, 100)\n",
            "(347, 100)\n"
          ]
        },
        {
          "output_type": "execute_result",
          "data": {
            "text/plain": [
              "[<matplotlib.lines.Line2D at 0x7f2571a0d6d0>]"
            ]
          },
          "metadata": {},
          "execution_count": 103
        },
        {
          "output_type": "display_data",
          "data": {
            "text/plain": [
              "<Figure size 432x288 with 1 Axes>"
            ],
            "image/png": "[encoded data removed]"
          },
          "metadata": {
            "needs_background": "light"
          }
        }
      ],
      "source": [
        "from sklearn.model_selection import train_test_split\n",
        "import seaborn as sns\n",
        "import pandas as pd\n",
        "t = np.transpose(normx)\n",
        "newarr = np.array_split(t, 2)\n",
        "norm_ventricular = newarr[0]\n",
        "norm_atrial = newarr[1]\n",
        "\n",
        "\n",
        "print(norm_ventricular.shape)\n",
        "print(norm_atrial.shape)\n",
        "\n",
        "# do i need to use random_state=instance ?\n",
        "X_train, X_test, Y_train, Y_test = train_test_split(norm_atrial, norm_ventricular, test_size =0.90)\n",
        "\n",
        "\n",
        "X_train = np.transpose(X_train)\n",
        "Y_train = np.transpose(Y_train)\n",
        "X_test = np.transpose(X_test)\n",
        "Y_test = np.transpose(Y_test)\n",
        "\n",
        "print(X_train.shape)\n",
        "print(Y_train.shape)\n",
        "plt.plot(X_train [:,0])\n",
        "plt.plot(Y_train[:,0])"
      ]
    },
    {
      "cell_type": "markdown",
      "metadata": {
        "id": "4sX9Y917ec8T"
      },
      "source": [
        " * **Task 1C: Atrial and Ventricular AP Plots [3 points each, 6 Points Total]:**\n",
        " Make two plots displaying your normalized training data for each of the classes. Horizontal axis should be time in seconds"
      ]
    },
    {
      "cell_type": "code",
      "execution_count": 114,
      "metadata": {
        "id": "GeXyWpw_ec8T",
        "outputId": "3cb86559-e0eb-4151-be71-60d44f99bb1e",
        "colab": {
          "base_uri": "https://localhost:8080/",
          "height": 269
        }
      },
      "outputs": [
        {
          "output_type": "stream",
          "name": "stdout",
          "text": [
            "(100, 347)\n",
            "(100, 347)\n"
          ]
        },
        {
          "output_type": "error",
          "ename": "IndexError",
          "evalue": "ignored",
          "traceback": [
            "\u001b[0;31m---------------------------------------------------------------------------\u001b[0m",
            "\u001b[0;31mIndexError\u001b[0m                                Traceback (most recent call last)",
            "\u001b[0;32m<ipython-input-114-e0f8d368d824>\u001b[0m in \u001b[0;36m<module>\u001b[0;34m\u001b[0m\n\u001b[1;32m     19\u001b[0m \u001b[0mprint\u001b[0m\u001b[0;34m(\u001b[0m\u001b[0mXn_train\u001b[0m\u001b[0;34m.\u001b[0m\u001b[0mshape\u001b[0m\u001b[0;34m)\u001b[0m\u001b[0;34m\u001b[0m\u001b[0;34m\u001b[0m\u001b[0m\n\u001b[1;32m     20\u001b[0m \u001b[0mprint\u001b[0m\u001b[0;34m(\u001b[0m\u001b[0mYn_train\u001b[0m\u001b[0;34m.\u001b[0m\u001b[0mshape\u001b[0m\u001b[0;34m)\u001b[0m\u001b[0;34m\u001b[0m\u001b[0;34m\u001b[0m\u001b[0m\n\u001b[0;32m---> 21\u001b[0;31m \u001b[0mplt\u001b[0m\u001b[0;34m.\u001b[0m\u001b[0mplot\u001b[0m\u001b[0;34m(\u001b[0m\u001b[0mx\u001b[0m \u001b[0;34m[\u001b[0m\u001b[0;34m:\u001b[0m\u001b[0;34m,\u001b[0m\u001b[0;36m0\u001b[0m\u001b[0;34m]\u001b[0m\u001b[0;34m)\u001b[0m\u001b[0;34m\u001b[0m\u001b[0;34m\u001b[0m\u001b[0m\n\u001b[0m\u001b[1;32m     22\u001b[0m \u001b[0mplt\u001b[0m\u001b[0;34m.\u001b[0m\u001b[0mplot\u001b[0m\u001b[0;34m(\u001b[0m\u001b[0my\u001b[0m \u001b[0;34m[\u001b[0m\u001b[0;34m:\u001b[0m\u001b[0;34m,\u001b[0m\u001b[0;36m0\u001b[0m\u001b[0;34m]\u001b[0m\u001b[0;34m)\u001b[0m\u001b[0;34m\u001b[0m\u001b[0;34m\u001b[0m\u001b[0m\n\u001b[1;32m     23\u001b[0m \u001b[0;34m\u001b[0m\u001b[0m\n",
            "\u001b[0;31mIndexError\u001b[0m: too many indices for array: array is 1-dimensional, but 2 were indexed"
          ]
        }
      ],
      "source": [
        "from numpy.lib import type_check\n",
        "time = (347/500)\n",
        "\n",
        "\n",
        "\"\"\"tx = np.transpose(X_train)\n",
        "ty = np.transpose(Y_train)\n",
        "\n",
        "Xn_train = tx*time\n",
        "Yn_train = ty*time\n",
        "\n",
        "x = np.transpose(Xn_train)\n",
        "y = np.transpose(Yn_train)\"\"\"\n",
        "\n",
        "\n",
        "\n",
        "\n",
        "\n",
        "print(Xn_train.shape)\n",
        "print(Yn_train.shape)\n",
        "plt.plot(x [:,0])\n",
        "plt.plot(y [:,0])\n",
        "\n"
      ]
    },
    {
      "cell_type": "markdown",
      "metadata": {
        "id": "t7XAiZfyec8T"
      },
      "source": [
        "* **Task 1D: APD [10 points]:** The _Action Potential Duration_ (APD) at $\\alpha$ is defined as the time it takes to reduce the maximum amplitude of the AP to a proportion $\\alpha \\in[0,1]$ of that value. Write a function that computes APD at a given $\\alpha$. Then use it to calculate the APD at $\\alpha=0.5$ for all APs in the train and test datasets."
      ]
    },
    {
      "cell_type": "code",
      "execution_count": null,
      "metadata": {
        "id": "iqlwYlvhec8U"
      },
      "outputs": [],
      "source": [
        "# ============================================================================\n",
        "# compute hand-crafted features such as APA and APDx\n",
        "# ============================================================================\n",
        "\n",
        "def apdx(X,alpha=0.5,fs=1.0):\n",
        "    \"\"\"\n",
        "    This function computes the APDx feature defined as the time it takes to\n",
        "    reduce the action potential to x% of its maximum value.\n",
        "    Use:\n",
        "        APD = apdx(X,alpha,fs)\n",
        "        \n",
        "    Inputs:\n",
        "        X : data points (each column is a data point)\n",
        "        alpha : [0,1] proportion of maximum amplitude\n",
        "        fs : sampling frequency (to map samples to time)\n",
        "        \n",
        "    Output:\n",
        "        APD feature\n",
        "    \"\"\"\n",
        "\n",
        "    # write your function code here\n",
        "    # ...\n"
      ]
    },
    {
      "cell_type": "markdown",
      "metadata": {
        "id": "gTDUgsNbec8V"
      },
      "source": [
        " * **Task 1E: APP [5 points]:** Also compute the _Average of the Action Potential_ (AAP) for both the train and test datasets"
      ]
    },
    {
      "cell_type": "code",
      "execution_count": null,
      "metadata": {
        "id": "5umFQXCzec8V"
      },
      "outputs": [],
      "source": []
    },
    {
      "cell_type": "markdown",
      "metadata": {
        "id": "joYzTRwcec8W"
      },
      "source": [
        " * **Task 1F: APD vs. AAP Scatter Plot [5 points]:** Make a scatter plot (APD\\@0.5 vs. AAP) of the training data using these two features. Use different colors and/or markers to represent each class.\n"
      ]
    },
    {
      "cell_type": "code",
      "execution_count": null,
      "metadata": {
        "id": "iY4ld_Kpec8W"
      },
      "outputs": [],
      "source": []
    },
    {
      "cell_type": "markdown",
      "metadata": {
        "id": "KCJyNYJ5ec8W"
      },
      "source": [
        "* **Task 1G: Nearest-neighbor classifier [15 points]** Implement a $1$NN classifier using the Euclidean distance. A $1$NN classifier works as follows: Given your training dataset $\\mathcal{D} = \\big\\{(\\boldsymbol x_i,y_i)\\big\\}_{i=1}^{N}$,where $N$ is the number of training samples, $\\boldsymbol x_i\\in\\mathbb{R}^D$ is a feature vector and $y_i\\in\\{-1,1\\}$ its associated label, and a novel sample $\\boldsymbol x$, the $1$NN classifier assigns to $\\boldsymbol x$ the same label as its closest point in the training set. That is, the estimated label $\\widehat y$ of $\\boldsymbol x$ is such that:\n",
        "\n",
        "$$\\widehat y(\\boldsymbol x) = y_{k^*},\\quad k^* = \\underset{i\\in\\{1,\\ldots,N\\}}{\\arg\\min}\\, \\lVert \\boldsymbol x_i - \\boldsymbol x \\rVert_2. $$ \n",
        "\n",
        "Compute and display the classification accuracy over the testing dataset using the handcrafted training features APD and AAP."
      ]
    },
    {
      "cell_type": "code",
      "execution_count": null,
      "metadata": {
        "id": "HrVuTMjCec8X"
      },
      "outputs": [],
      "source": [
        "# ============================================================================\n",
        "# Nearest-neighbor classifier\n",
        "# ============================================================================\n",
        "\n",
        "def nn_classify(Xtest,Xtrain,Ytrain):\n",
        "    \"\"\"\n",
        "    This function implements a nearest neighbor classifier.\n",
        "    Use:\n",
        "        yhat = nn_classify(Xtest,Xtrain,Ytrain)\n",
        "        \n",
        "    Inputs:\n",
        "        Xtest  : test data points (each column is a data point)\n",
        "        Xtrain : training data points\n",
        "        Ytrain : associated labels to the training data points\n",
        "        \n",
        "    Output:\n",
        "        Yhat : estimated labels for the test data.\n",
        "\n",
        "    \"\"\"\n",
        "    \n",
        "    # implement your nearest-neighbor classifier below\n",
        "    # ...\n"
      ]
    },
    {
      "cell_type": "markdown",
      "metadata": {
        "id": "19-GcjDPec8X"
      },
      "source": [
        "### Part 2. Classification Using Neural Network [40 points total]\n",
        "\n",
        "Implement a two-layer neural network classifier of the form:\n",
        "\n",
        "   $$\\widehat y = \\operatorname{sign}\\big(f_{\\theta}(\\phi(\\boldsymbol x))\\big),\\quad f_{\\theta}(\\phi(\\boldsymbol x)) = \\boldsymbol w^T\\phi(\\boldsymbol x) + b,\\quad \\theta = \\left[\\begin{array}{c}\\boldsymbol w\\\\b\\end{array}\\right],$$\n",
        "  \n",
        " where $x \\in \\mathbb{R}^D$, $f_\\theta: \\mathbb{R}^p \\to \\mathbb{R}$ is a _linear prediction function_ (i.e., classification layer) with $p$ parameters. Furthermore we define $\\theta = [\\boldsymbol w^T, b]^T$ with $w \\in \\mathbb{R}^p$ and $b \\in \\mathbb{R}$. The feature extraction part of the network consists of a linear layer followed by a ReLu (rectified linear unit) non-linearity:\n",
        " \n",
        " $$ \\phi(x) = \\operatorname{ReLu}\\big(\\boldsymbol W \\boldsymbol x + \\boldsymbol B\\big),\\quad\\operatorname{ReLu}(x)=\\begin{cases}x &x>0\\\\0&\\textrm{else}\\end{cases}.$$\n",
        " \n",
        " Where $\\phi: \\mathbb{R}^D \\to \\mathbb{R}^p$, $\\boldsymbol W \\in \\mathbb{R}^{p \\times D}$, $B \\in \\mathbb{R}^{p}$. In order to find the network's parameters $\\Theta=\\{\\boldsymbol W, \\boldsymbol B, \\boldsymbol w, b\\}$ minimize the following _regularized empirical risk_ using PyTorch:\n",
        "\n",
        "   $$\\min_{\\Theta}\\, \\underbrace{\\frac{1}{N} \\sum_{i=1}^N L\\big(f_\\theta(\\phi(\\boldsymbol x_i)),y_i\\big) + \\lambda\\big(\\frac{1}{|w|}\\lVert \\boldsymbol w\\rVert^2 + \\frac{1}{|W|}\\lVert\\boldsymbol W\\rVert^2\\big)}_{C(\\Theta)}$$\n",
        "    \n",
        " where the loss function $L(f, y) = \\lVert y-f\\rVert_2^2)$ is the quadratic (square) loss, and $|w|,|W|$, are the number of elements in $\\boldsymbol w$ and $\\boldsymbol W$, respectively. \n",
        "\n",
        " * **Task 2A: Define neural nework [15 points]:** Define a network model in PyTorch according to the definition above. For that purpose you can use `torch.nn.Sequential`. Use $p \\geq 2$ for best results.  Follow this [example](https://pytorch.org/tutorials/beginner/pytorch_with_examples.html#pytorch-nn) to learn how to use it."
      ]
    },
    {
      "cell_type": "code",
      "execution_count": null,
      "metadata": {
        "id": "yfwstSuLec8X"
      },
      "outputs": [],
      "source": [
        "p = 2\n",
        "torch.manual_seed(0) # fix random number generator\n",
        "\n",
        "# ============================================================================\n",
        "# Write your solution below based on outline\n",
        "# ============================================================================\n",
        "\n",
        "# Define Xtrain as a Ntrain x D tensor and Ytrain should be a Ntrain x 1\n",
        "\n",
        "# Define a linear function with D inputs and p outputs and include a bias term\n",
        "\n",
        "# Define a Rectified Linear Unit \n",
        "\n",
        "# Define another linear funcion with p inputs and 1 output also include a bias term\n",
        "\n",
        "# Define model as a neural network combining these 3 functions\n"
      ]
    },
    {
      "cell_type": "markdown",
      "metadata": {
        "id": "Aeb7Sg99ec8Y"
      },
      "source": [
        " * **Task 2B: Gradient Descent [15 points]:** Run a gradient descent algorithm to minimize the cost function using $\\lambda =1$. Carefully adjust the learning rate and number of iterations until you see the method converges (i.e., the cost value function gets to a \"plateau\").  Print the cost every 500 iterations."
      ]
    },
    {
      "cell_type": "code",
      "execution_count": null,
      "metadata": {
        "id": "NKB1iqtqec8Y"
      },
      "outputs": [],
      "source": [
        "learningRate = 5e-3\n",
        "numIterations = 10000\n",
        "lambdaValue = 1\n",
        "\n",
        "# ============================================================================\n",
        "# Write your solution below based on outline\n",
        "# ============================================================================\n",
        "for iteration in range(numIterations):\n",
        "    \n",
        "    # Use model to predict Y\n",
        "    \n",
        "    # Evaluate the cost function \n",
        "    \n",
        "    # Display cost value every 500 iterations\n",
        "    \n",
        "    # Backpropagation: Update the gradients of the cost function using it's backward() method\n",
        "    \n",
        "    with torch.no_grad():\n",
        "        # Updating parameters based on gradients\n",
        "        \n",
        "        model.zero_grad()\n",
        "        "
      ]
    },
    {
      "cell_type": "markdown",
      "metadata": {
        "id": "0G5Lri_0ec8Z"
      },
      "source": [
        " * **Task 2C: Cost Plot [5 points]:** Then plot the cost over the iterations and display the classification accuracy over the testing dataset."
      ]
    },
    {
      "cell_type": "code",
      "execution_count": null,
      "metadata": {
        "id": "BDjFrT3jec8Z"
      },
      "outputs": [],
      "source": []
    },
    {
      "cell_type": "markdown",
      "metadata": {
        "id": "ZQYC_N_bec8Z"
      },
      "source": [
        " * **Task 2D: Test Accuracy [5 points]:** Display the classification accuracy over the testing dataset."
      ]
    },
    {
      "cell_type": "code",
      "execution_count": null,
      "metadata": {
        "id": "TsyT4Tp6ec8Z"
      },
      "outputs": [],
      "source": []
    }
  ],
  "metadata": {
    "kernelspec": {
      "display_name": "Python 3 (ipykernel)",
      "language": "python",
      "name": "python3"
    },
    "language_info": {
      "codemirror_mode": {
        "name": "ipython",
        "version": 3
      },
      "file_extension": ".py",
      "mimetype": "text/x-python",
      "name": "python",
      "nbconvert_exporter": "python",
      "pygments_lexer": "ipython3",
      "version": "3.10.4"
    },
    "colab": {
      "provenance": []
    }
  },
  "nbformat": 4,
  "nbformat_minor": 0
}